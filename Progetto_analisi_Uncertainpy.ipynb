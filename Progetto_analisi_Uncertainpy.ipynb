{
  "cells": [
    {
      "cell_type": "markdown",
      "source": [
        "## **Analysis of the library** ***Uncertainnpy***"
      ],
      "metadata": {
        "id": "laRMNjwcrqdn"
      }
    },
    {
      "cell_type": "code",
      "execution_count": null,
      "metadata": {
        "id": "-5dEITzSDJ-j"
      },
      "outputs": [],
      "source": [
        "# Install and load libraries\n",
        "!pip install uncertainpy\n",
        "import uncertainpy as un"
      ]
    },
    {
      "cell_type": "code",
      "execution_count": null,
      "metadata": {
        "colab": {
          "base_uri": "https://localhost:8080/"
        },
        "id": "b_aQ7sSkDQWk",
        "outputId": "148cfa50-61e1-4291-9d9e-10a304f4ccd3"
      },
      "outputs": [
        {
          "output_type": "stream",
          "name": "stdout",
          "text": [
            "Mounted at /content/drive\n"
          ]
        }
      ],
      "source": [
        "from google.colab import drive\n",
        "drive.mount('/content/drive')"
      ]
    },
    {
      "cell_type": "markdown",
      "source": [
        "# **Built in example:**\n",
        "## A cooling coffee cup model"
      ],
      "metadata": {
        "id": "PlDYbohE_b5W"
      }
    },
    {
      "cell_type": "code",
      "source": [
        "import chaospy as cp                       \n",
        "import numpy as np                         \n",
        "from scipy.integrate import odeint         \n",
        "\n",
        "# Create the coffee cup model function\n",
        "def coffee_cup(kappa, T_env):\n",
        "    # Initial temperature and time array\n",
        "    time = np.linspace(0, 200, 150)            # Minutes\n",
        "    T_0 = 95                                   # Celsius\n",
        "\n",
        "    # The equation describing the model\n",
        "    def f(T, time, kappa, T_env):\n",
        "        return -kappa*(T - T_env)\n",
        "\n",
        "    # Solving the equation by integration\n",
        "    temperature = odeint(f, T_0, time, args=(kappa, T_env))[:, 0]\n",
        "\n",
        "    # Return time and model output\n",
        "    return time, temperature\n",
        "\n",
        "\n",
        "# Create a model from the coffee_cup function and add labels\n",
        "model = un.Model(run=coffee_cup, labels=[\"Time (min)\", \"Temperature (C)\"])\n",
        "\n",
        "# Create the distributions\n",
        "kappa_dist = cp.Uniform(0.025, 0.075)\n",
        "T_env_dist = cp.Uniform(15, 25)\n",
        "\n",
        "# Define the parameter dictionary\n",
        "parameters = {\"kappa\": kappa_dist, \"T_env\": T_env_dist}\n",
        "\n",
        "# Set up the uncertainty quantification\n",
        "UQ = un.UncertaintyQuantification(model=model, parameters=parameters)\n",
        "\n",
        "# Perform the uncertainty quantification using\n",
        "# polynomial chaos with point collocation (by default)\n",
        "# We set the seed to easier be able to reproduce the result\n",
        "data = UQ.quantify(seed=10)"
      ],
      "metadata": {
        "id": "UOy7q8Gu_WmY"
      },
      "execution_count": null,
      "outputs": []
    },
    {
      "cell_type": "markdown",
      "source": [
        "# **External code example**:\n",
        "## The Courtemanche model\n",
        "\n",
        "\n",
        "> During simulation, differential equations are solved using ode15 with a resolution time series per ms at a fixed pacing cycle length of 1000 ms.\n",
        "\n",
        "> In particular we have as input a vector of states, which elements are the parameters on which the membrane voltage depends and a vector of constants that are the costants of the model.\n",
        "\n",
        "> As output, indeed, we set the membrane voltage (V) and the slope of the action potential upstroke (dV/dt) as a functions of time."
      ],
      "metadata": {
        "id": "zon9I5uBsfmU"
      }
    },
    {
      "cell_type": "markdown",
      "source": [
        "## 1.   Definition of the model \n"
      ],
      "metadata": {
        "id": "DkVXNZhvtA9C"
      }
    },
    {
      "cell_type": "code",
      "execution_count": null,
      "metadata": {
        "id": "MVbH2NyDDXc3"
      },
      "outputs": [],
      "source": [
        "# Define the size of variable arrays\n",
        "sizeAlgebraic = 75\n",
        "sizeStates = 21\n",
        "sizeConstants = 49"
      ]
    },
    {
      "cell_type": "code",
      "execution_count": null,
      "metadata": {
        "id": "QtK1Zvq85sEW"
      },
      "outputs": [],
      "source": [
        "from math import *\n",
        "from numpy import *\n",
        "\n",
        "# Definition of the required function to solve model with ODE solver\n",
        "def model(C_m, G_Na, Na_o, G_K1, K_o, G_to, G_Kr, G_ks, G_CaL,\n",
        "          i_NaK_max, Gb_Na, Gb_Ca, Ca2_o, i_NaCa_max, ip_Ca_max, \n",
        "          t_tr, i_up_max, K_up):\n",
        "    \n",
        "    # Define the initial conditions of the ode and set the costant\n",
        "    def initConsts():\n",
        "        constants = [0.0] * sizeConstants; \n",
        "        states = [0.0] * sizeStates;\n",
        "\n",
        "        #Definition of initial condition of the outputs\n",
        "        states[0] = -80.7943720540656\n",
        "        states[1] = 11.1978985821874\n",
        "        states[2] = 0.0030991545302638\n",
        "        states[3] = 0.961779024084024\n",
        "        states[4] = 0.975082606579783\n",
        "        states[5] = 138.966052602725\n",
        "        states[6] = 0.0310953022800734\n",
        "        states[7] = 0.999182814284718\n",
        "        states[8] = 0.00517060631778166\n",
        "        states[9] = 0.990418619902699\n",
        "        states[10] = 0.00305781615411067\n",
        "        states[11] = 0.0200076100020844\n",
        "        states[12] = 0.000116546960393694\n",
        "        states[13] = 0.000143471458047068\n",
        "        states[14] = 0.906829583502354\n",
        "        states[15] = 0.750035883990791\n",
        "        states[16] = 1.09657547671994\n",
        "        states[17] = 2.36683179892234e-50\n",
        "        states[18] = 0.999999999999989\n",
        "        states[19] = 0.999180121409289\n",
        "        states[20] = 1.56333172702071\n",
        "\n",
        "        #Definition of constant parameters\n",
        "        constants[0] = 8.3143\n",
        "        constants[1] = 310\n",
        "        constants[2] = 96.4867\n",
        "        constants[3] = C_m         # 100 pF\n",
        "        constants[4] = 50\n",
        "        constants[5] = 50000\n",
        "        constants[6] = 1000\n",
        "        constants[7] = 2\n",
        "        constants[8] = -2000\n",
        "        constants[9] = G_Na         # 7.8 ns/pF\n",
        "        constants[10] = Na_o        # 140 mMol\n",
        "        constants[11] = G_K1        # 0.09 ns/pF\n",
        "        constants[12] = K_o         # 5.4 mMol\n",
        "        constants[13] = 3\n",
        "        constants[14] = G_to        # 0.1652 ns/pF\n",
        "        constants[15] = G_Kr        # 0.029411765 ns/Pf\n",
        "        constants[16] = G_ks        # 0.12941176 ns/pF\n",
        "        constants[17] = G_CaL       # 0.12375 ns/pF\n",
        "        constants[18] = 10\n",
        "        constants[19] = 1.5\n",
        "        constants[20] = i_NaK_max   # 0.59933874 pA/pF\n",
        "        constants[21] = Gb_Na       # 0.0006744375 ns/pF\n",
        "        constants[22] = Gb_Ca       # 0.001131 ns/pF\n",
        "        constants[23] = 0\n",
        "        constants[24] = Ca2_o       # 1.8 mmol\n",
        "        constants[25] = i_NaCa_max  # 1600 pA/pF\n",
        "        constants[26] = 87.5\n",
        "        constants[27] = 1.38\n",
        "        constants[28] = 0.1\n",
        "        constants[29] = 0.35\n",
        "        constants[30] = ip_Ca_max   # 0.275 pA/pF\n",
        "        constants[31] = 30\n",
        "        constants[32] = t_tr        # 180 ms\n",
        "        constants[33] = i_up_max    # 0.005 mmol/ms\n",
        "        constants[34] = K_up        # 0.00092 mmol\n",
        "        constants[35] = 15\n",
        "        constants[36] = 0.05\n",
        "        constants[37] = 0.07\n",
        "        constants[38] = 10\n",
        "        constants[39] = 0.00238\n",
        "        constants[40] = 0.0005\n",
        "        constants[41] = 0.8\n",
        "        constants[42] = 20100\n",
        "        constants[43] = constants[42]*0.680000\n",
        "        constants[44] = 2.00000\n",
        "        constants[45] = (1.00000/7.00000)*(exp(constants[10]/67.3000)-1.00000)\n",
        "        constants[46] = 8.00000\n",
        "        constants[47] = 0.00480000*constants[42]\n",
        "        constants[48] = 0.0552000*constants[42]\n",
        "        return (states, constants)\n",
        "\n",
        "    # Computation of rates\n",
        "    def computeRates(voi, states, constants):\n",
        "        # Compute result of a piecewise function\n",
        "        def custom_piecewise(cases):\n",
        "            return select(cases[0::2],cases[1::2])\n",
        "        \n",
        "        rates = [0.0] * sizeStates; \n",
        "        \n",
        "        algebraic = [0.0] * sizeAlgebraic\n",
        "        algebraic[12] = power(1.00000+states[12]/0.000350000, -1.00000)\n",
        "        rates[15] = (algebraic[12]-states[15])/constants[44]\n",
        "        algebraic[10] = power(1.00000+exp((states[0]+10.0000)/-8.00000), -1.00000)\n",
        "        algebraic[27] = custom_piecewise([less(fabs(states[0]+10.0000) , 1.00000e-10), 4.57900/(1.00000+exp((states[0]+10.0000)/-6.24000)) , True, (1.00000-exp((states[0]+10.0000)/-6.24000))/(0.0350000*(states[0]+10.0000)*(1.00000+exp((states[0]+10.0000)/-6.24000)))])\n",
        "        rates[13] = (algebraic[10]-states[13])/algebraic[27]\n",
        "        algebraic[11] = exp(-(states[0]+28.0000)/6.90000)/(1.00000+exp(-(states[0]+28.0000)/6.90000))\n",
        "        algebraic[28] = 9.00000*(power(0.0197000*exp(-(power(0.0337000, 2.00000))*(power(states[0]+10.0000, 2.00000)))+0.0200000, -1.00000))\n",
        "        rates[14] = (algebraic[11]-states[14])/algebraic[28]\n",
        "        algebraic[13] = custom_piecewise([less(fabs(states[0]-7.90000) , 1.00000e-10), (6.00000*0.200000)/1.30000 , True, (6.00000*(1.00000-exp(-(states[0]-7.90000)/5.00000)))/((1.00000+0.300000*exp(-(states[0]-7.90000)/5.00000))*1.00000*(states[0]-7.90000))])\n",
        "        algebraic[29] = 1.00000-power(1.00000+exp(-(states[0]-40.0000)/17.0000), -1.00000)\n",
        "        rates[19] = (algebraic[29]-states[19])/algebraic[13]\n",
        "        algebraic[1] = custom_piecewise([equal(states[0] , -47.1300), 3.20000 , True, (0.320000*(states[0]+47.1300))/(1.00000-exp(-0.100000*(states[0]+47.1300)))])\n",
        "        algebraic[18] = 0.0800000*exp(-states[0]/11.0000)\n",
        "        algebraic[31] = algebraic[1]/(algebraic[1]+algebraic[18])\n",
        "        algebraic[41] = 1.00000/(algebraic[1]+algebraic[18])\n",
        "        rates[2] = (algebraic[31]-states[2])/algebraic[41]\n",
        "        algebraic[2] = custom_piecewise([less(states[0] , -40.0000), 0.135000*exp((states[0]+80.0000)/-6.80000) , True, 0.00000])\n",
        "        algebraic[19] = custom_piecewise([less(states[0] , -40.0000), 3.56000*exp(0.0790000*states[0])+310000.*exp(0.350000*states[0]) , True, 1.00000/(0.130000*(1.00000+exp((states[0]+10.6600)/-11.1000)))])\n",
        "        algebraic[32] = algebraic[2]/(algebraic[2]+algebraic[19])\n",
        "        algebraic[42] = 1.00000/(algebraic[2]+algebraic[19])\n",
        "        rates[3] = (algebraic[32]-states[3])/algebraic[42]\n",
        "        algebraic[3] = custom_piecewise([less(states[0] , -40.0000), ((-127140.*exp(0.244400*states[0])-3.47400e-05*exp(-0.0439100*states[0]))*(states[0]+37.7800))/(1.00000+exp(0.311000*(states[0]+79.2300))) , True, 0.00000])\n",
        "        algebraic[20] = custom_piecewise([less(states[0] , -40.0000), (0.121200*exp(-0.0105200*states[0]))/(1.00000+exp(-0.137800*(states[0]+40.1400))) , True, (0.300000*exp(-2.53500e-07*states[0]))/(1.00000+exp(-0.100000*(states[0]+32.0000)))])\n",
        "        algebraic[33] = algebraic[3]/(algebraic[3]+algebraic[20])\n",
        "        algebraic[43] = 1.00000/(algebraic[3]+algebraic[20])\n",
        "        rates[4] = (algebraic[33]-states[4])/algebraic[43]\n",
        "        algebraic[4] = 0.650000*(power(exp((states[0]--10.0000)/-8.50000)+exp(((states[0]--10.0000)-40.0000)/-59.0000), -1.00000))\n",
        "        algebraic[21] = 0.650000*(power(2.50000+exp(((states[0]--10.0000)+72.0000)/17.0000), -1.00000))\n",
        "        algebraic[34] = (power(algebraic[4]+algebraic[21], -1.00000))/constants[13]\n",
        "        algebraic[44] = power(1.00000+exp(((states[0]--10.0000)+10.4700)/-17.5400), -1.00000)\n",
        "        rates[6] = (algebraic[44]-states[6])/algebraic[34]\n",
        "        algebraic[5] = power(18.5300+1.00000*exp(((states[0]--10.0000)+103.700)/10.9500), -1.00000)\n",
        "        algebraic[22] = power(35.5600+1.00000*exp(((states[0]--10.0000)-8.74000)/-7.44000), -1.00000)\n",
        "        algebraic[35] = (power(algebraic[5]+algebraic[22], -1.00000))/constants[13]\n",
        "        algebraic[45] = power(1.00000+exp(((states[0]--10.0000)+33.1000)/5.30000), -1.00000)\n",
        "        rates[7] = (algebraic[45]-states[7])/algebraic[35]\n",
        "        algebraic[6] = 0.650000*(power(exp((states[0]--10.0000)/-8.50000)+exp(((states[0]--10.0000)-40.0000)/-59.0000), -1.00000))\n",
        "        algebraic[23] = 0.650000*(power(2.50000+exp(((states[0]--10.0000)+72.0000)/17.0000), -1.00000))\n",
        "        algebraic[36] = (power(algebraic[6]+algebraic[23], -1.00000))/constants[13]\n",
        "        algebraic[46] = power(1.00000+exp(((states[0]--10.0000)+20.3000)/-9.60000), -1.00000)\n",
        "        rates[8] = (algebraic[46]-states[8])/algebraic[36]\n",
        "        algebraic[7] = power(21.0000+1.00000*exp(((states[0]--10.0000)-195.000)/-28.0000), -1.00000)\n",
        "        algebraic[24] = 1.00000/exp(((states[0]--10.0000)-168.000)/-16.0000)\n",
        "        algebraic[37] = (power(algebraic[7]+algebraic[24], -1.00000))/constants[13]\n",
        "        algebraic[47] = power(1.00000+exp(((states[0]--10.0000)-109.450)/27.4800), -1.00000)\n",
        "        rates[9] = (algebraic[47]-states[9])/algebraic[37]\n",
        "        algebraic[8] = custom_piecewise([less(fabs(states[0]+14.1000) , 1.00000e-10), 0.00150000 , True, (0.000300000*(states[0]+14.1000))/(1.00000-exp((states[0]+14.1000)/-5.00000))])\n",
        "        algebraic[25] = custom_piecewise([less(fabs(states[0]-3.33280) , 1.00000e-10), 0.000378361 , True, (7.38980e-05*(states[0]-3.33280))/(exp((states[0]-3.33280)/5.12370)-1.00000)])\n",
        "        algebraic[38] = power(algebraic[8]+algebraic[25], -1.00000)\n",
        "        algebraic[48] = power(1.00000+exp((states[0]+14.1000)/-6.50000), -1.00000)\n",
        "        rates[10] = (algebraic[48]-states[10])/algebraic[38]\n",
        "        algebraic[9] = custom_piecewise([less(fabs(states[0]-19.9000) , 1.00000e-10), 0.000680000 , True, (4.00000e-05*(states[0]-19.9000))/(1.00000-exp((states[0]-19.9000)/-17.0000))])\n",
        "        algebraic[26] = custom_piecewise([less(fabs(states[0]-19.9000) , 1.00000e-10), 0.000315000 , True, (3.50000e-05*(states[0]-19.9000))/(exp((states[0]-19.9000)/9.00000)-1.00000)])\n",
        "        algebraic[39] = 0.500000*(power(algebraic[9]+algebraic[26], -1.00000))\n",
        "        algebraic[49] = power(1.00000+exp((states[0]-19.9000)/-12.7000), -0.500000)\n",
        "        rates[11] = (algebraic[49]-states[11])/algebraic[39]\n",
        "        algebraic[40] = ((constants[0]*constants[1])/constants[2])*log(constants[12]/states[5])\n",
        "        algebraic[50] = (constants[3]*constants[11]*(states[0]-algebraic[40]))/(1.00000+exp(0.0700000*(states[0]+80.0000)))\n",
        "        algebraic[51] = constants[3]*constants[14]*(power(states[6], 3.00000))*states[7]*(states[0]-algebraic[40])\n",
        "        algebraic[52] = 0.00500000+0.0500000/(1.00000+exp((states[0]-15.0000)/-13.0000))\n",
        "        algebraic[53] = constants[3]*algebraic[52]*(power(states[8], 3.00000))*states[9]*(states[0]-algebraic[40])\n",
        "        algebraic[54] = (constants[3]*constants[15]*states[10]*(states[0]-algebraic[40]))/(1.00000+exp((states[0]+15.0000)/22.4000))\n",
        "        algebraic[55] = constants[3]*constants[16]*(power(states[11], 2.00000))*(states[0]-algebraic[40])\n",
        "        algebraic[57] = power(1.00000+0.124500*exp((-0.100000*constants[2]*states[0])/(constants[0]*constants[1]))+0.0365000*constants[45]*exp((-constants[2]*states[0])/(constants[0]*constants[1])), -1.00000)\n",
        "        algebraic[58] = (((constants[3]*constants[20]*algebraic[57]*1.00000)/(1.00000+power(constants[18]/states[1], 1.50000)))*constants[12])/(constants[12]+constants[19])\n",
        "        algebraic[60] = constants[3]*constants[23]*(states[0]-algebraic[40])\n",
        "        rates[5] = (2.00000*algebraic[58]-(algebraic[50]+algebraic[51]+algebraic[53]+algebraic[54]+algebraic[55]+algebraic[60]))/(constants[43]*constants[2])\n",
        "        algebraic[17] = ((constants[0]*constants[1])/constants[2])*log(constants[10]/states[1])\n",
        "        algebraic[30] = constants[3]*constants[9]*(power(states[2], 3.00000))*states[3]*states[4]*(states[0]-algebraic[17])\n",
        "        algebraic[63] = (constants[3]*constants[25]*(exp((constants[29]*constants[2]*states[0])/(constants[0]*constants[1]))*(power(states[1], 3.00000))*constants[24]-exp(((constants[29]-1.00000)*constants[2]*states[0])/(constants[0]*constants[1]))*(power(constants[10], 3.00000))*states[12]))/((power(constants[26], 3.00000)+power(constants[10], 3.00000))*(constants[27]+constants[24])*(1.00000+constants[28]*exp(((constants[29]-1.00000)*states[0]*constants[2])/(constants[0]*constants[1]))))\n",
        "        algebraic[61] = constants[3]*constants[21]*(states[0]-algebraic[17])\n",
        "        rates[1] = (-3.00000*algebraic[58]-(3.00000*algebraic[63]+algebraic[61]+algebraic[30]))/(constants[43]*constants[2])\n",
        "        algebraic[0] = custom_piecewise([greater_equal(voi , constants[4]) & less_equal(voi , constants[5]) & less_equal((voi-constants[4])-floor((voi-constants[4])/constants[6])*constants[6] , constants[7]), constants[8] , True, 0.00000])\n",
        "        algebraic[56] = constants[3]*constants[17]*states[13]*states[14]*states[15]*(states[0]-65.0000)\n",
        "        algebraic[64] = (constants[3]*constants[30]*states[12])/(0.000500000+states[12])\n",
        "        algebraic[59] = ((constants[0]*constants[1])/(2.00000*constants[2]))*log(constants[24]/states[12])\n",
        "        algebraic[62] = constants[3]*constants[22]*(states[0]-algebraic[59])\n",
        "        rates[0] = -(algebraic[30]+algebraic[50]+algebraic[51]+algebraic[53]+algebraic[54]+algebraic[55]+algebraic[61]+algebraic[62]+algebraic[58]+algebraic[64]+algebraic[63]+algebraic[56]+algebraic[0])/constants[3]\n",
        "        algebraic[65] = constants[31]*(power(states[17], 2.00000))*states[18]*states[19]*(states[16]-states[12])\n",
        "        algebraic[67] = (states[20]-states[16])/constants[32]\n",
        "        rates[16] = (algebraic[67]-algebraic[65])*(power(1.00000+(constants[38]*constants[41])/(power(states[16]+constants[41], 2.00000)), -1.00000))\n",
        "        algebraic[66] = 1000.00*(1.00000e-15*constants[47]*algebraic[65]-(1.00000e-15/(2.00000*constants[2]))*(0.500000*algebraic[56]-0.200000*algebraic[63]))\n",
        "        algebraic[68] = power(1.00000+exp(-(algebraic[66]-3.41750e-13)/1.36700e-15), -1.00000)\n",
        "        rates[17] = (algebraic[68]-states[17])/constants[46]\n",
        "        algebraic[69] = 1.91000+2.09000*(power(1.00000+exp(-(algebraic[66]-3.41750e-13)/1.36700e-15), -1.00000))\n",
        "        algebraic[71] = 1.00000-power(1.00000+exp(-(algebraic[66]-6.83500e-14)/1.36700e-15), -1.00000)\n",
        "        rates[18] = (algebraic[71]-states[18])/algebraic[69]\n",
        "        algebraic[70] = constants[33]/(1.00000+constants[34]/states[12])\n",
        "        algebraic[72] = (constants[33]*states[20])/constants[35]\n",
        "        rates[20] = algebraic[70]-(algebraic[72]+(algebraic[67]*constants[47])/constants[48])\n",
        "        algebraic[73] = (2.00000*algebraic[63]-(algebraic[64]+algebraic[56]+algebraic[62]))/(2.00000*constants[43]*constants[2])+(constants[48]*(algebraic[72]-algebraic[70])+algebraic[65]*constants[47])/constants[43]\n",
        "        algebraic[74] = 1.00000+(constants[37]*constants[40])/(power(states[12]+constants[40], 2.00000))+(constants[36]*constants[39])/(power(states[12]+constants[39], 2.00000))\n",
        "        rates[12] = algebraic[73]/algebraic[74]\n",
        "        return(rates)\n",
        "\n",
        "    # Computation of algebraic\n",
        "    def computeAlgebraic(constants, states, voi):\n",
        "\n",
        "        # Compute result of a piecewise function\n",
        "        def custom_piecewise(cases):\n",
        "            return select(cases[0::2],cases[1::2])\n",
        "        \n",
        "        algebraic = array([[0.0] * len(voi)] * sizeAlgebraic)\n",
        "        states = array(states)\n",
        "        voi = array(voi)\n",
        "        algebraic[12] = power(1.00000+states[12]/0.000350000, -1.00000)\n",
        "        algebraic[10] = power(1.00000+exp((states[0]+10.0000)/-8.00000), -1.00000)\n",
        "        algebraic[27] = custom_piecewise([less(fabs(states[0]+10.0000) , 1.00000e-10), 4.57900/(1.00000+exp((states[0]+10.0000)/-6.24000)) , True, (1.00000-exp((states[0]+10.0000)/-6.24000))/(0.0350000*(states[0]+10.0000)*(1.00000+exp((states[0]+10.0000)/-6.24000)))])\n",
        "        algebraic[11] = exp(-(states[0]+28.0000)/6.90000)/(1.00000+exp(-(states[0]+28.0000)/6.90000))\n",
        "        algebraic[28] = 9.00000*(power(0.0197000*exp(-(power(0.0337000, 2.00000))*(power(states[0]+10.0000, 2.00000)))+0.0200000, -1.00000))\n",
        "        algebraic[13] = custom_piecewise([less(fabs(states[0]-7.90000) , 1.00000e-10), (6.00000*0.200000)/1.30000 , True, (6.00000*(1.00000-exp(-(states[0]-7.90000)/5.00000)))/((1.00000+0.300000*exp(-(states[0]-7.90000)/5.00000))*1.00000*(states[0]-7.90000))])\n",
        "        algebraic[29] = 1.00000-power(1.00000+exp(-(states[0]-40.0000)/17.0000), -1.00000)\n",
        "        algebraic[1] = custom_piecewise([equal(states[0] , -47.1300), 3.20000 , True, (0.320000*(states[0]+47.1300))/(1.00000-exp(-0.100000*(states[0]+47.1300)))])\n",
        "        algebraic[18] = 0.0800000*exp(-states[0]/11.0000)\n",
        "        algebraic[31] = algebraic[1]/(algebraic[1]+algebraic[18])\n",
        "        algebraic[41] = 1.00000/(algebraic[1]+algebraic[18])\n",
        "        algebraic[2] = custom_piecewise([less(states[0] , -40.0000), 0.135000*exp((states[0]+80.0000)/-6.80000) , True, 0.00000])\n",
        "        algebraic[19] = custom_piecewise([less(states[0] , -40.0000), 3.56000*exp(0.0790000*states[0])+310000.*exp(0.350000*states[0]) , True, 1.00000/(0.130000*(1.00000+exp((states[0]+10.6600)/-11.1000)))])\n",
        "        algebraic[32] = algebraic[2]/(algebraic[2]+algebraic[19])\n",
        "        algebraic[42] = 1.00000/(algebraic[2]+algebraic[19])\n",
        "        algebraic[3] = custom_piecewise([less(states[0] , -40.0000), ((-127140.*exp(0.244400*states[0])-3.47400e-05*exp(-0.0439100*states[0]))*(states[0]+37.7800))/(1.00000+exp(0.311000*(states[0]+79.2300))) , True, 0.00000])\n",
        "        algebraic[20] = custom_piecewise([less(states[0] , -40.0000), (0.121200*exp(-0.0105200*states[0]))/(1.00000+exp(-0.137800*(states[0]+40.1400))) , True, (0.300000*exp(-2.53500e-07*states[0]))/(1.00000+exp(-0.100000*(states[0]+32.0000)))])\n",
        "        algebraic[33] = algebraic[3]/(algebraic[3]+algebraic[20])\n",
        "        algebraic[43] = 1.00000/(algebraic[3]+algebraic[20])\n",
        "        algebraic[4] = 0.650000*(power(exp((states[0]--10.0000)/-8.50000)+exp(((states[0]--10.0000)-40.0000)/-59.0000), -1.00000))\n",
        "        algebraic[21] = 0.650000*(power(2.50000+exp(((states[0]--10.0000)+72.0000)/17.0000), -1.00000))\n",
        "        algebraic[34] = (power(algebraic[4]+algebraic[21], -1.00000))/constants[13]\n",
        "        algebraic[44] = power(1.00000+exp(((states[0]--10.0000)+10.4700)/-17.5400), -1.00000)\n",
        "        algebraic[5] = power(18.5300+1.00000*exp(((states[0]--10.0000)+103.700)/10.9500), -1.00000)\n",
        "        algebraic[22] = power(35.5600+1.00000*exp(((states[0]--10.0000)-8.74000)/-7.44000), -1.00000)\n",
        "        algebraic[35] = (power(algebraic[5]+algebraic[22], -1.00000))/constants[13]\n",
        "        algebraic[45] = power(1.00000+exp(((states[0]--10.0000)+33.1000)/5.30000), -1.00000)\n",
        "        algebraic[6] = 0.650000*(power(exp((states[0]--10.0000)/-8.50000)+exp(((states[0]--10.0000)-40.0000)/-59.0000), -1.00000))\n",
        "        algebraic[23] = 0.650000*(power(2.50000+exp(((states[0]--10.0000)+72.0000)/17.0000), -1.00000))\n",
        "        algebraic[36] = (power(algebraic[6]+algebraic[23], -1.00000))/constants[13]\n",
        "        algebraic[46] = power(1.00000+exp(((states[0]--10.0000)+20.3000)/-9.60000), -1.00000)\n",
        "        algebraic[7] = power(21.0000+1.00000*exp(((states[0]--10.0000)-195.000)/-28.0000), -1.00000)\n",
        "        algebraic[24] = 1.00000/exp(((states[0]--10.0000)-168.000)/-16.0000)\n",
        "        algebraic[37] = (power(algebraic[7]+algebraic[24], -1.00000))/constants[13]\n",
        "        algebraic[47] = power(1.00000+exp(((states[0]--10.0000)-109.450)/27.4800), -1.00000)\n",
        "        algebraic[8] = custom_piecewise([less(fabs(states[0]+14.1000) , 1.00000e-10), 0.00150000 , True, (0.000300000*(states[0]+14.1000))/(1.00000-exp((states[0]+14.1000)/-5.00000))])\n",
        "        algebraic[25] = custom_piecewise([less(fabs(states[0]-3.33280) , 1.00000e-10), 0.000378361 , True, (7.38980e-05*(states[0]-3.33280))/(exp((states[0]-3.33280)/5.12370)-1.00000)])\n",
        "        algebraic[38] = power(algebraic[8]+algebraic[25], -1.00000)\n",
        "        algebraic[48] = power(1.00000+exp((states[0]+14.1000)/-6.50000), -1.00000)\n",
        "        algebraic[9] = custom_piecewise([less(fabs(states[0]-19.9000) , 1.00000e-10), 0.000680000 , True, (4.00000e-05*(states[0]-19.9000))/(1.00000-exp((states[0]-19.9000)/-17.0000))])\n",
        "        algebraic[26] = custom_piecewise([less(fabs(states[0]-19.9000) , 1.00000e-10), 0.000315000 , True, (3.50000e-05*(states[0]-19.9000))/(exp((states[0]-19.9000)/9.00000)-1.00000)])\n",
        "        algebraic[39] = 0.500000*(power(algebraic[9]+algebraic[26], -1.00000))\n",
        "        algebraic[49] = power(1.00000+exp((states[0]-19.9000)/-12.7000), -0.500000)\n",
        "        algebraic[40] = ((constants[0]*constants[1])/constants[2])*log(constants[12]/states[5])\n",
        "        algebraic[50] = (constants[3]*constants[11]*(states[0]-algebraic[40]))/(1.00000+exp(0.0700000*(states[0]+80.0000)))\n",
        "        algebraic[51] = constants[3]*constants[14]*(power(states[6], 3.00000))*states[7]*(states[0]-algebraic[40])\n",
        "        algebraic[52] = 0.00500000+0.0500000/(1.00000+exp((states[0]-15.0000)/-13.0000))\n",
        "        algebraic[53] = constants[3]*algebraic[52]*(power(states[8], 3.00000))*states[9]*(states[0]-algebraic[40])\n",
        "        algebraic[54] = (constants[3]*constants[15]*states[10]*(states[0]-algebraic[40]))/(1.00000+exp((states[0]+15.0000)/22.4000))\n",
        "        algebraic[55] = constants[3]*constants[16]*(power(states[11], 2.00000))*(states[0]-algebraic[40])\n",
        "        algebraic[57] = power(1.00000+0.124500*exp((-0.100000*constants[2]*states[0])/(constants[0]*constants[1]))+0.0365000*constants[45]*exp((-constants[2]*states[0])/(constants[0]*constants[1])), -1.00000)\n",
        "        algebraic[58] = (((constants[3]*constants[20]*algebraic[57]*1.00000)/(1.00000+power(constants[18]/states[1], 1.50000)))*constants[12])/(constants[12]+constants[19])\n",
        "        algebraic[60] = constants[3]*constants[23]*(states[0]-algebraic[40])\n",
        "        algebraic[17] = ((constants[0]*constants[1])/constants[2])*log(constants[10]/states[1])\n",
        "        algebraic[30] = constants[3]*constants[9]*(power(states[2], 3.00000))*states[3]*states[4]*(states[0]-algebraic[17])\n",
        "        algebraic[63] = (constants[3]*constants[25]*(exp((constants[29]*constants[2]*states[0])/(constants[0]*constants[1]))*(power(states[1], 3.00000))*constants[24]-exp(((constants[29]-1.00000)*constants[2]*states[0])/(constants[0]*constants[1]))*(power(constants[10], 3.00000))*states[12]))/((power(constants[26], 3.00000)+power(constants[10], 3.00000))*(constants[27]+constants[24])*(1.00000+constants[28]*exp(((constants[29]-1.00000)*states[0]*constants[2])/(constants[0]*constants[1]))))\n",
        "        algebraic[61] = constants[3]*constants[21]*(states[0]-algebraic[17])\n",
        "        algebraic[0] = custom_piecewise([greater_equal(voi , constants[4]) & less_equal(voi , constants[5]) & less_equal((voi-constants[4])-floor((voi-constants[4])/constants[6])*constants[6] , constants[7]), constants[8] , True, 0.00000])\n",
        "        algebraic[56] = constants[3]*constants[17]*states[13]*states[14]*states[15]*(states[0]-65.0000)\n",
        "        algebraic[64] = (constants[3]*constants[30]*states[12])/(0.000500000+states[12])\n",
        "        algebraic[59] = ((constants[0]*constants[1])/(2.00000*constants[2]))*log(constants[24]/states[12])\n",
        "        algebraic[62] = constants[3]*constants[22]*(states[0]-algebraic[59])\n",
        "        algebraic[65] = constants[31]*(power(states[17], 2.00000))*states[18]*states[19]*(states[16]-states[12])\n",
        "        algebraic[67] = (states[20]-states[16])/constants[32]\n",
        "        algebraic[66] = 1000.00*(1.00000e-15*constants[47]*algebraic[65]-(1.00000e-15/(2.00000*constants[2]))*(0.500000*algebraic[56]-0.200000*algebraic[63]))\n",
        "        algebraic[68] = power(1.00000+exp(-(algebraic[66]-3.41750e-13)/1.36700e-15), -1.00000)\n",
        "        algebraic[69] = 1.91000+2.09000*(power(1.00000+exp(-(algebraic[66]-3.41750e-13)/1.36700e-15), -1.00000))\n",
        "        algebraic[71] = 1.00000-power(1.00000+exp(-(algebraic[66]-6.83500e-14)/1.36700e-15), -1.00000)\n",
        "        algebraic[70] = constants[33]/(1.00000+constants[34]/states[12])\n",
        "        algebraic[72] = (constants[33]*states[20])/constants[35]\n",
        "        algebraic[73] = (2.00000*algebraic[63]-(algebraic[64]+algebraic[56]+algebraic[62]))/(2.00000*constants[43]*constants[2])+(constants[48]*(algebraic[72]-algebraic[70])+algebraic[65]*constants[47])/constants[43]\n",
        "        algebraic[74] = 1.00000+(constants[37]*constants[40])/(power(states[12]+constants[40], 2.00000))+(constants[36]*constants[39])/(power(states[12]+constants[39], 2.00000))\n",
        "        algebraic[14] = (constants[36]*states[12])/(states[12]+constants[39])\n",
        "        algebraic[15] = (constants[37]*states[12])/(states[12]+constants[40])\n",
        "        algebraic[16] = (constants[38]*states[16])/(states[16]+constants[41])\n",
        "        return algebraic\n",
        "    \n",
        "    from scipy.integrate import ode\n",
        "\n",
        "    # Initialise constants and state variables\n",
        "    (init_states, constants) = initConsts()\n",
        "\n",
        "    # Set timespan to solve over\n",
        "    time = arange(0, T_end, dt)\n",
        "\n",
        "    # Construct ODE object to solve\n",
        "    r = ode(computeRates)\n",
        "    r.set_integrator('vode', method='bdf', atol=1e-06, rtol=1e-06, max_step=1)\n",
        "    r.set_initial_value(init_states, time[0])\n",
        "    r.set_f_params(constants)\n",
        "\n",
        "    # Solve model\n",
        "    states = array([[0.0] * len(time)] * sizeStates)\n",
        "    states[:,0] = init_states\n",
        "    for (i,t) in enumerate(time[1:]):\n",
        "        if r.successful():\n",
        "            r.integrate(t)\n",
        "            states[:,i+1] = r.y\n",
        "        else:\n",
        "            break\n",
        "\n",
        "    rates = computeRates(time, states, constants)\n",
        "\n",
        "    # Compute the membrane voltage as time function\n",
        "    V_m = states[0, :]\n",
        "\n",
        "    # Compute the slope of the action potential upstroke\n",
        "    dVdt = rates[0]\n",
        "\n",
        "    # Define the info dictionary\n",
        "    info = {\"dVdt\" : dVdt}\n",
        "    \n",
        "    # Return time, model output and info dictionary\n",
        "    return time, V_m, info\n",
        "\n"
      ]
    },
    {
      "cell_type": "markdown",
      "metadata": {
        "id": "NhaHxKIVjitt"
      },
      "source": [
        "### 1.1. Testing the model with one simulation\n",
        "\n"
      ]
    },
    {
      "cell_type": "code",
      "execution_count": null,
      "metadata": {
        "id": "gYXaZNQec-EZ"
      },
      "outputs": [],
      "source": [
        "import numpy as np\n",
        "import matplotlib.pyplot as plt\n",
        "\n",
        "# Set all the parameters to them theorical values\n",
        "Cm          = 100\n",
        "g_Na        = 7.8\n",
        "Na_o        = 140\n",
        "g_K1        = 0.09\n",
        "k_o         = 5.4\n",
        "G_to        = 0.1652\n",
        "G_Kr        = 0.029411765\n",
        "G_ks        = 0.12941176\n",
        "G_CaL       = 0.12375\n",
        "i_NaK_max   = 0.59933874\n",
        "Gb_Na       = 0.0006744375\n",
        "Gb_Ca       = 0.001131\n",
        "Ca2_o       = 1.8\n",
        "i_NaCa_max  = 1600.0\n",
        "ip_Ca_max   = 0.275\n",
        "t_tr        = 180.0\n",
        "i_up_max    = 0.005\n",
        "K_up        = 0.00092\n",
        "\n",
        "# Set the time constants\n",
        "T_end = 1000\n",
        "dt = 1\n",
        "\n",
        "# Solve the model \n",
        "time, V_m, info = model(Cm, g_Na, Na_o, g_K1, k_o, G_to, G_Kr, G_ks, G_CaL,\n",
        "                        i_NaK_max, Gb_Na, Gb_Ca, Ca2_o, i_NaCa_max, ip_Ca_max,\n",
        "                        t_tr, i_up_max, K_up)\n",
        "\n",
        "# Compute the peak voltage of the action potential\n",
        "V_max = max(V_m)\n",
        "\n",
        "# Compute the resting membrane potential \n",
        "RestV_m = min(V_m)\n",
        "\n",
        "# Compute the action potential durations at 50% of repolarization\n",
        "size = min(V_m) + max(V_m)\n",
        "for i in range(len(V_m)):\n",
        "  if V_m[i] >= size * 0.50:\n",
        "    APD50 = i\n",
        "  if V_m[i] >= size * 0.90:\n",
        "    APD90 = i\n",
        "\n",
        "# Compute the membrane voltage measured at 20%, 40%, 60% and 80% of APD90\n",
        "t_20 = int(APD90*0.20)\n",
        "V_20 = V_m[t_20]\n",
        "\n",
        "t_40 = int(APD90*0.40)\n",
        "V_40 = V_m[t_40]\n",
        "\n",
        "t_60 = int(APD90*0.60)\n",
        "V_60 = V_m[t_60]\n",
        "\n",
        "t_80 = int(APD90*0.80)\n",
        "V_80 = V_m[t_80]\n"
      ]
    },
    {
      "cell_type": "code",
      "execution_count": null,
      "metadata": {
        "id": "5XpJyz47_ZFw"
      },
      "outputs": [],
      "source": [
        "# Plotting the result\n",
        "plt.plot(time, V_m, color='red')\n",
        "plt.plot(t_20, V_20, 'k.')\n",
        "plt.plot(t_40, V_40, 'k.')\n",
        "plt.plot(t_60, V_60, 'k.')\n",
        "plt.plot(t_80, V_80, 'k.')\n",
        "plt.plot(0, RestV_m, 'k.')\n",
        "plt.plot(50, V_max, 'k.')\n",
        "\n",
        "plt.plot([0, APD50], [size*0.50, size*0.50], 'b,--' )\n",
        "plt.plot([0, APD90], [size*0.90, size*0.90], 'b,--' )\n",
        "plt.title(\"Plot of the membrane voltage and teorical biomarker\")\n",
        "plt.xlabel(\"time (ms)\")\n",
        "plt.ylabel(\"Voltage (mV)\")\n",
        "plt.grid(True, linewidth=0.5,color='white',linestyle='-')\n",
        "ax = plt.gca()\n",
        "ax.set_facecolor('#EAEAF2')\n",
        "figure = plt.show()"
      ]
    },
    {
      "cell_type": "markdown",
      "metadata": {
        "id": "IKsnnRaLhtaV"
      },
      "source": [
        "\n",
        "## 2.   Define the parameter dictionary and the features list\n",
        "> We set all parameters to have a uniform distribution within a certain interval (known) around their fixed (theoretical) values and compute the features with respect to the desired biomarker\n"
      ]
    },
    {
      "cell_type": "markdown",
      "source": [
        "### 2.1 Define the parameter dictionary"
      ],
      "metadata": {
        "id": "-yAUeBTgulsM"
      }
    },
    {
      "cell_type": "code",
      "execution_count": null,
      "metadata": {
        "id": "Aofu9WcAPy5r"
      },
      "outputs": [],
      "source": [
        "#Definition of constant parameters\n",
        "parameters = {\"G_Na\"         :   7.8,\n",
        "              \"C_m\"          :   100,\n",
        "              \"Na_o\"         :   140, \n",
        "              \"G_K1\"         :   0.09,               \n",
        "              \"K_o\"          :   5.4, \n",
        "              \"G_to\"         :   0.1652,          \n",
        "              \"G_Kr\"         :   0.029411765,        \n",
        "              \"G_ks\"         :   0.12941176,         \n",
        "              \"G_CaL\"        :   0.12375, \n",
        "              \"i_NaK_max\"    :   0.59933874,        \n",
        "              \"Gb_Na\"        :   0.0006744375,       \n",
        "              \"Gb_Ca\"        :   0.001131,      \n",
        "              \"Ca2_o\"        :   1.8,                \n",
        "              \"i_NaCa_max\"   :   1600.0,   \n",
        "              \"ip_Ca_max\"    :   0.275,       \n",
        "              \"t_tr\"         :   180.0,               \n",
        "              \"i_up_max\"     :   0.005,              \n",
        "              \"K_up\"         :   0.00092\n",
        "             }\n",
        "                                    \n",
        "# Create the parameters\n",
        "parameters = un.Parameters(parameters)\n",
        "\n",
        "# Set all parameters to have a uniform distribution within a certain\n",
        "# interval around their fixed value\n",
        "parameters.set_distribution(\"G_K1\",         un.uniform(0.25))\n",
        "parameters.set_distribution(\"G_to\",         un.uniform(0.50))\n",
        "parameters.set_distribution(\"G_CaL\",        un.uniform(0.50))\n",
        "parameters.set_distribution(\"Gb_Ca\",        un.uniform(0.50))\n",
        "parameters.set_distribution(\"i_NaK_max\",    un.uniform(0.50))\n",
        "parameters.set_distribution(\"G_Kr\",         un.uniform(0.50))\n",
        "\n",
        "# Removed parameters according to the paper\n",
        "# parameters.set_distribution(\"G_Na\",       un.uniform(0.50))\n",
        "# parameters.set_distribution(\"Na_o\",       un.uniform(0.10))\n",
        "# parameters.set_distribution(\"K_o\",        un.uniform(0.10))\n",
        "# parameters.set_distribution(\"G_ks\",       un.uniform(0.50))\n",
        "# parameters.set_distribution(\"Gb_Na\",      un.uniform(0.50))\n",
        "# parameters.set_distribution(\"i_NaCa_max\", un.uniform(0.50))\n",
        "# parameters.set_distribution(\"ip_Ca_max\",  un.uniform(0.50))\n",
        "# parameters.set_distribution(\"t_tr\",       un.uniform(0.50))\n",
        "# parameters.set_distribution(\"i_up_max\",   un.uniform(0.50))\n",
        "# parameters.set_distribution(\"K_up\",       un.uniform(0.50))\n",
        "# parameters.set_distribution(\"C_m\",        un.uniform(0.25))\n",
        "# parameters.set_distribution(\"Ca2_o\",      un.uniform(0.10))"
      ]
    },
    {
      "cell_type": "markdown",
      "source": [
        "### 2.2 Define the features list"
      ],
      "metadata": {
        "id": "jdTJdWMPux1z"
      }
    },
    {
      "cell_type": "code",
      "execution_count": null,
      "metadata": {
        "id": "3yrJyrSHjOW1"
      },
      "outputs": [],
      "source": [
        "# Compute the derivative of the V_m\n",
        "def dVdt(time, V_m, info):\n",
        "    return time, info[\"dVdt\"]\n",
        "\n",
        "# Compute the peak voltage of the action potential\n",
        "def V_max(time, V_m, info):\n",
        "    return None, max(V_m)\n",
        "\n",
        "# Compute the peak slope of the action potential upstroke\n",
        "def dV_max(time, V_m, info):\n",
        "    return None, max(info[\"dVdt\"])\n",
        "\n",
        "# Compute the resting membrane potential \n",
        "def RestV_m(time, V_m, info):\n",
        "    return None, min(V_m)\n",
        "\n",
        "# Compute the action potential durations at 50% of repolarization\n",
        "def APD50(time, V_m, info):\n",
        "    size = min(V_m) + max(V_m)\n",
        "    for i in range(len(V_m)):\n",
        "      if V_m[i] >= size * 0.50:\n",
        "        APD50 = i\n",
        "    return None, APD50\n",
        "\n",
        "# Compute the action potential durations at 50% of repolarization\n",
        "def APD90(time, V_m, info):\n",
        "    size = min(V_m) + max(V_m)\n",
        "    for i in range(len(V_m)):\n",
        "      if V_m[i] >= size * 0.90:\n",
        "        APD90 = i\n",
        "    return None, APD90\n",
        "\n",
        "# Compute the membrane voltage measured at 20%, 40%, 60% and 80% of APD90\n",
        "def V_20(time, V_m, info): \n",
        "    t = int(APD90(time, V_m, info)[1]*0.20)\n",
        "    return t, V_m[t]\n",
        "\n",
        "def V_40(time, V_m, info):\n",
        "    t = int(APD90(time, V_m, info)[1]*0.40)\n",
        "    return t, V_m[t]\n",
        "\n",
        "def V_60(time, V_m, info):\n",
        "    t = int(APD90(time, V_m, info)[1]*0.60)\n",
        "    return t, V_m[t]\n",
        "\n",
        "def V_80(time, V_m, info):\n",
        "    t = int(APD90(time, V_m, info)[1]*0.80)\n",
        "    return t, V_m[t]\n",
        "\n",
        "# By selecting different combinations of variables in the following vector we \n",
        "# establish which outputs we consider in the analysis\n",
        "\n",
        "features = [dVdt, V_max, dV_max, RestV_m, APD50, APD90, V_20, V_40, V_60, V_80]\n"
      ]
    },
    {
      "cell_type": "markdown",
      "metadata": {
        "id": "CwKsmQLljULX"
      },
      "source": [
        "## 3. Perform the uncertainty quantification\n"
      ]
    },
    {
      "cell_type": "code",
      "execution_count": null,
      "metadata": {
        "id": "Kmu5lKCMCa8j"
      },
      "outputs": [],
      "source": [
        "T_end = 1000\n",
        "dt = 1\n",
        "\n",
        "model = un.Model(run = model)\n",
        "\n",
        "UQ = un.UncertaintyQuantification(model = model,\n",
        "                                  parameters = parameters,\n",
        "                                  features = features)\n",
        "\n",
        "data = UQ.quantify(method = 'pc', CPUs = 'max', rosenblatt = 'auto',\n",
        "                   polynomial_order = 3, nr_pc_mc_samples = 1000,\n",
        "                   save = True, \n",
        "                   data_folder = 'drive/MyDrive/output', \n",
        "                   filename = 'Analisi_V_e_dV')\n"
      ]
    },
    {
      "cell_type": "markdown",
      "metadata": {
        "id": "nePZPoB1jcez"
      },
      "source": [
        "### 3.1 Addictional graphical representation of the results"
      ]
    },
    {
      "cell_type": "code",
      "execution_count": null,
      "metadata": {
        "id": "fldyGqmsucXa"
      },
      "outputs": [],
      "source": [
        "import seaborn as sb \n",
        "\n",
        "# Heat map of the first order Sobol indices\n",
        "sobol_first = [data[\"dV_max\"].sobol_first, data[\"V_max\"].sobol_first, \n",
        "                 data[\"V_20\"].sobol_first,  data[\"V_40\"].sobol_first, \n",
        "                 data[\"V_60\"].sobol_first,  data[\"V_80\"].sobol_first, \n",
        "                data[\"APD50\"].sobol_first, data[\"APD90\"].sobol_first, \n",
        "              data[\"RestV_m\"].sobol_first]\n",
        "\n",
        "heat_map = sb.heatmap(sobol_first, annot=True, fmt=\".2f\", cmap=\"Blues\", \n",
        "                      xticklabels = [ \"G_K1\", \"G_to\", \"G_Kr\", \"G_CaL\", \n",
        "                                     \"i_NaK_max\", \"Gb_Ca\"], \n",
        "                      yticklabels = [\"dV_max\", \"V_max\", \"V_20\", \"V_40\", \n",
        "                                     \"V_60\", \"V_80\", \"APD50\", \"APD90\", \n",
        "                                     \"RestV_m\"],\n",
        "                      vmin=0, vmax=1)\n"
      ]
    },
    {
      "cell_type": "code",
      "execution_count": null,
      "metadata": {
        "id": "MCk5iMGRcwAM"
      },
      "outputs": [],
      "source": [
        "import seaborn as sb \n",
        "\n",
        "# Heat map of the total Sobol indices\n",
        "sobol_total = [data[\"dV_max\"].sobol_total, data[\"V_max\"].sobol_total, \n",
        "                 data[\"V_20\"].sobol_total,  data[\"V_40\"].sobol_total, \n",
        "                 data[\"V_60\"].sobol_total,  data[\"V_80\"].sobol_total, \n",
        "                data[\"APD50\"].sobol_total, data[\"APD90\"].sobol_total, \n",
        "              data[\"RestV_m\"].sobol_total]\n",
        "\n",
        "heat_map = sb.heatmap(sobol_total, annot=True, fmt=\".2f\", cmap = \"YlOrBr\",  \n",
        "                      xticklabels = [ \"G_K1\", \"G_to\", \"G_Kr\", \"G_CaL\", \n",
        "                                     \"i_NaK_max\", \"Gb_Ca\"], \n",
        "                      yticklabels = [\"dV_max\", \"V_max\", \"V_20\", \"V_40\", \n",
        "                                     \"V_60\", \"V_80\", \"APD50\", \"APD90\", \n",
        "                                     \"RestV_m\"],\n",
        "                      vmin=0, vmax=1)\n"
      ]
    },
    {
      "cell_type": "markdown",
      "metadata": {
        "id": "CuKqIMjyhDRs"
      },
      "source": [
        "Plot of the first order and total Sobol indices with respect time (ms)"
      ]
    },
    {
      "cell_type": "code",
      "execution_count": null,
      "metadata": {
        "id": "TLtb_vcUcX98"
      },
      "outputs": [],
      "source": [
        "import matplotlib.pyplot as plt\n",
        "time = range(T_end)\n",
        "\n",
        "# Plot of G_K1 first order Sobol index with respect to time\n",
        "plt.plot(time, data[\"model\"].sobol_first[0], '#EB718B', linewidth=3.0)\n",
        "plt.plot([50, 50], [0, 1], 'y--', linewidth=2.0)\n",
        "plt.ylim(top = 1)\n",
        "plt.ylim(bottom = 0)\n",
        "plt.grid(color='white')\n",
        "ax = plt.gca()\n",
        "ax.set_facecolor('#EAEAF2')\n",
        "plt.show()\n"
      ]
    },
    {
      "cell_type": "code",
      "execution_count": null,
      "metadata": {
        "id": "4lkIi9Zagmow"
      },
      "outputs": [],
      "source": [
        "import matplotlib.pyplot as plt\n",
        "time = range(T_end)\n",
        "\n",
        "# Plot of G_to fisrt order Sobol index with respect to time\n",
        "plt.plot(time, data[\"model\"].sobol_first[1], '#E3D917', linewidth=3.0)\n",
        "plt.plot([50, 50], [0, 1], 'y--',linewidth=2.0)\n",
        "plt.ylim(top = 1)\n",
        "plt.ylim(bottom = 0)\n",
        "plt.grid(color='white')\n",
        "ax = plt.gca()\n",
        "ax.set_facecolor('#EAEAF2')\n",
        "plt.show()\n"
      ]
    },
    {
      "cell_type": "code",
      "execution_count": null,
      "metadata": {
        "id": "bOpeHg-WgogZ"
      },
      "outputs": [],
      "source": [
        "import matplotlib.pyplot as plt\n",
        "time = range(T_end)\n",
        "\n",
        "# Plot of G_Kr fisrt order Sobol index with respect to time\n",
        "plt.plot(time, data[\"model\"].sobol_first[2], '#72CE52', linewidth=3.0)\n",
        "plt.plot([50, 50], [0, 1], 'y--', linewidth=2.0)\n",
        "plt.ylim(top = 1)\n",
        "plt.ylim(bottom = 0)\n",
        "plt.grid(color='white')\n",
        "ax = plt.gca()\n",
        "ax.set_facecolor('#EAEAF2')\n",
        "plt.show()\n"
      ]
    },
    {
      "cell_type": "code",
      "execution_count": null,
      "metadata": {
        "id": "ZxPP-4BXgr4e"
      },
      "outputs": [],
      "source": [
        "import matplotlib.pyplot as plt\n",
        "time = range(T_end)\n",
        "\n",
        "# Plot of G_CaL fisrt order Sobol index with respect to time\n",
        "plt.plot(time, data[\"model\"].sobol_first[3], '#5EB4B2', linewidth=3.0)\n",
        "plt.plot([50, 50], [0, 1], 'y--', linewidth=2.0)\n",
        "plt.ylim(top = 1)\n",
        "plt.ylim(bottom = 0)\n",
        "plt.grid(color='white')\n",
        "ax = plt.gca()\n",
        "ax.set_facecolor('#EAEAF2')\n",
        "plt.show()\n"
      ]
    },
    {
      "cell_type": "code",
      "execution_count": null,
      "metadata": {
        "id": "3kDfcq8zgvTK"
      },
      "outputs": [],
      "source": [
        "import matplotlib.pyplot as plt\n",
        "time = range(T_end)\n",
        "\n",
        "# Plot of i_NaK_max fisrt order Sobol index with respect to time\n",
        "plt.plot(time, data[\"model\"].sobol_first[4], '#3B9EE9', linewidth=3.0)\n",
        "plt.plot([50, 50], [0, 1], 'y--', linewidth=2.0)\n",
        "plt.ylim(top = 1)\n",
        "plt.ylim(bottom = 0)\n",
        "plt.grid(color='white')\n",
        "ax = plt.gca()\n",
        "ax.set_facecolor('#EAEAF2')\n",
        "plt.show()\n"
      ]
    },
    {
      "cell_type": "code",
      "execution_count": null,
      "metadata": {
        "id": "bBQ3_3K1gx8Y"
      },
      "outputs": [],
      "source": [
        "import matplotlib.pyplot as plt\n",
        "time = range(T_end)\n",
        "\n",
        "# Plot of Gb_Ca fisrt order Sobol index with respect to time\n",
        "plt.plot(time, data[\"model\"].sobol_first[5], '#D248EA', linewidth=3.0)\n",
        "plt.plot([50, 50], [0, 1], 'y--',linewidth=2.0)\n",
        "plt.ylim(top = 1)\n",
        "plt.ylim(bottom = 0)\n",
        "plt.grid(color='white')\n",
        "ax = plt.gca()\n",
        "ax.set_facecolor('#EAEAF2')\n",
        "plt.show()\n"
      ]
    },
    {
      "cell_type": "code",
      "execution_count": null,
      "metadata": {
        "id": "keyjyubDg0yh"
      },
      "outputs": [],
      "source": [
        "import matplotlib.pyplot as plt\n",
        "time = range(T_end)\n",
        "\n",
        "# Plot of G_K1 total Sobol index with respect to time\n",
        "plt.plot(time, data[\"model\"].sobol_total[0], '#EB718B', linewidth=3.0)\n",
        "plt.plot([50, 50], [0, 1], 'y--', linewidth=2.0)\n",
        "plt.ylim(top = 1)\n",
        "plt.ylim(bottom = 0)\n",
        "plt.grid(color='white')\n",
        "ax = plt.gca()\n",
        "ax.set_facecolor('#EAEAF2')\n",
        "plt.show()\n"
      ]
    },
    {
      "cell_type": "code",
      "execution_count": null,
      "metadata": {
        "id": "dmmRWbL5g3ww"
      },
      "outputs": [],
      "source": [
        "import matplotlib.pyplot as plt\n",
        "time = range(T_end)\n",
        "\n",
        "# Plot of G_to total Sobol index with respect to time\n",
        "plt.plot(time, data[\"model\"].sobol_total[1], '#E3D917', linewidth=3.0)\n",
        "plt.plot([50, 50], [0, 1], 'y--',linewidth=2.0)\n",
        "plt.ylim(top = 1)\n",
        "plt.ylim(bottom = 0)\n",
        "plt.grid(color='white')\n",
        "ax = plt.gca()\n",
        "ax.set_facecolor('#EAEAF2')\n",
        "plt.show()\n"
      ]
    },
    {
      "cell_type": "code",
      "execution_count": null,
      "metadata": {
        "id": "V4BgBYg-g6OO"
      },
      "outputs": [],
      "source": [
        "import matplotlib.pyplot as plt\n",
        "time = range(T_end)\n",
        "\n",
        "# Plot of G_Kr total Sobol index with respect to time\n",
        "plt.plot(time, data[\"model\"].sobol_total[2], '#72CE52', linewidth=3.0)\n",
        "plt.plot([50, 50], [0, 1], 'y--', linewidth=2.0)\n",
        "plt.ylim(top = 1)\n",
        "plt.ylim(bottom = 0)\n",
        "plt.grid(color='white')\n",
        "ax = plt.gca()\n",
        "ax.set_facecolor('#EAEAF2')\n",
        "plt.show()\n"
      ]
    },
    {
      "cell_type": "code",
      "execution_count": null,
      "metadata": {
        "id": "HgGVswCMg7-C"
      },
      "outputs": [],
      "source": [
        "import matplotlib.pyplot as plt\n",
        "time = range(T_end)\n",
        "\n",
        "# Plot of G_CaL total Sobol index with respect to time\n",
        "plt.plot(time, data[\"model\"].sobol_total[3], '#5EB4B2', linewidth=3.0)\n",
        "plt.plot([50, 50], [0, 1], 'y--', linewidth=2.0)\n",
        "plt.ylim(top = 1)\n",
        "plt.ylim(bottom = 0)\n",
        "plt.grid(color='white')\n",
        "ax = plt.gca()\n",
        "ax.set_facecolor('#EAEAF2')\n",
        "plt.show()\n",
        "\n"
      ]
    },
    {
      "cell_type": "code",
      "execution_count": null,
      "metadata": {
        "id": "Mz_r6m5lg-AW"
      },
      "outputs": [],
      "source": [
        "import matplotlib.pyplot as plt\n",
        "time = range(T_end)\n",
        "\n",
        "# Plot of i_NaK_max total Sobol index with respect to time\n",
        "plt.plot(time, data[\"model\"].sobol_total[4], '#3B9EE9', linewidth=3.0)\n",
        "plt.plot([50, 50], [0, 1], 'y--', linewidth=2.0)\n",
        "plt.ylim(top = 1)\n",
        "plt.ylim(bottom = 0)\n",
        "plt.grid(color='white')\n",
        "ax = plt.gca()\n",
        "ax.set_facecolor('#EAEAF2')\n",
        "plt.show()\n"
      ]
    },
    {
      "cell_type": "code",
      "execution_count": null,
      "metadata": {
        "id": "qtqstmlahBDH"
      },
      "outputs": [],
      "source": [
        "import matplotlib.pyplot as plt\n",
        "time = range(T_end)\n",
        "\n",
        "# Plot of Gb_Ca total Sobol index with respect to time\n",
        "plt.plot(time, data[\"model\"].sobol_total[5], '#D248EA', linewidth=3.0)\n",
        "plt.plot([50, 50], [0, 1], 'y--',linewidth=2.0)\n",
        "plt.ylim(top = 1)\n",
        "plt.ylim(bottom = 0)\n",
        "plt.grid(color='white')\n",
        "ax = plt.gca()\n",
        "ax.set_facecolor('#EAEAF2')\n",
        "plt.show()\n"
      ]
    },
    {
      "cell_type": "markdown",
      "metadata": {
        "id": "XsxTRPqb7dol"
      },
      "source": [
        "## 4. Particular analysis on the V_max case"
      ]
    },
    {
      "cell_type": "markdown",
      "source": [
        "### 4.1 V_max indices computed with Uncertainpy"
      ],
      "metadata": {
        "id": "MVgQthOswWbN"
      }
    },
    {
      "cell_type": "markdown",
      "source": [
        "#### Computation of the indices"
      ],
      "metadata": {
        "id": "gtA4Y-6BzLV9"
      }
    },
    {
      "cell_type": "code",
      "execution_count": null,
      "metadata": {
        "id": "zffeJMGG7bm2"
      },
      "outputs": [],
      "source": [
        "# Since we want to focus on V_max we can reduce the time interval\n",
        "T_end = 400\n",
        "dt = 0.5\n",
        "\n",
        "model = un.Model(run = model)\n",
        "\n",
        "UQ = un.UncertaintyQuantification(model = model,\n",
        "                                  parameters = parameters,\n",
        "                                  features = V_max)\n",
        "\n",
        "data = UQ.quantify(method = 'pc', CPUs = 'max', rosenblatt = 'auto',\n",
        "                   polynomial_order = 3, nr_pc_mc_samples = 1000, plot = None)\n"
      ]
    },
    {
      "cell_type": "markdown",
      "source": [
        "#### Graphical representation of the indexes"
      ],
      "metadata": {
        "id": "q0LV54c1zLWL"
      }
    },
    {
      "cell_type": "code",
      "execution_count": null,
      "metadata": {
        "id": "82IyOrR-91Um"
      },
      "outputs": [],
      "source": [
        "import seaborn as sb \n",
        "\n",
        "data_plot = [data[\"V_max\"].sobol_first, data[\"V_max\"].sobol_total]\n",
        "\n",
        "# Heat map of V_max Sobol indices\n",
        "heat_map = sb.heatmap(data_plot, annot=True, fmt=\".2f\", cmap=\"YlOrBr\", \n",
        "                      xticklabels = [ \"G_K1\", \"G_to\", \"G_Kr\", \"G_CaL\", \n",
        "                                     \"i_NaK_max\", \"Gb_Ca\"], \n",
        "                      yticklabels = [\"Sobol_first\", \"Sobol_total\"],\n",
        "                      vmin=0, vmax=1)"
      ]
    },
    {
      "cell_type": "markdown",
      "source": [
        "### 4.2 V_max indices computed by hands\n",
        "> By using Saltelli method we generate the input matrix of the selected parameters before passing it to the Matlab model\n",
        "\n"
      ],
      "metadata": {
        "id": "XzLP5rBDwiGg"
      }
    },
    {
      "cell_type": "code",
      "source": [
        "!pip install SALib\n",
        "from SALib.analyze import sobol\n",
        "from SALib.sample import saltelli"
      ],
      "metadata": {
        "id": "xYpF4Bqm6Kag"
      },
      "execution_count": null,
      "outputs": []
    },
    {
      "cell_type": "markdown",
      "source": [
        "#### Computation of the indices"
      ],
      "metadata": {
        "id": "g6uEIPusxHP1"
      }
    },
    {
      "cell_type": "code",
      "source": [
        "import pandas as pd\n",
        "\n",
        "# Compute Sobol indexes for all biomarkers with 512 iterations\n",
        "df = pd.read_excel('/content/drive/MyDrive/Computational_statistics/BIOMARKER_VALUES_1024iteration.xls')\n",
        "evaluations_V_max = df.to_numpy()[:, 1]"
      ],
      "metadata": {
        "id": "wxpLa2cqqxjJ"
      },
      "execution_count": null,
      "outputs": []
    },
    {
      "cell_type": "code",
      "source": [
        "# Definition of the problem\n",
        "problem = {'num_vars' : 6,\n",
        "           'names'    : [\"G_K1\"     , \n",
        "                         \"G_to\"     ,\n",
        "                         \"G_Kr\"     ,\n",
        "                         \"G_CaL\"    , \n",
        "                         \"i_NaK_max\",  \n",
        "                         \"Gb_Ca\"    ],\n",
        "           'bounds'    : [[0.018,  0.045],\n",
        "                          [0.033, 0.0826],\n",
        "                          [0.0147, 0.0441],\n",
        "                          [0.0619, 0.1856],\n",
        "                          [0.2997, 0.8990],\n",
        "                          [0.0005, 0.0017]]\n",
        "          }\n"
      ],
      "metadata": {
        "id": "phI-UI6EyeV6"
      },
      "execution_count": null,
      "outputs": []
    },
    {
      "cell_type": "code",
      "source": [
        "sobol_first_V_max = []\n",
        "sobol_total_V_max = []\n",
        "\n",
        "si = sobol.analyze(problem, evaluations_V_max, calc_second_order=False, \n",
        "                   num_resamples = 1024)\n",
        "for i in range(6):\n",
        "  sobol_first_V_max.append(si[\"S1\"][i])\n",
        "  sobol_total_V_max.append(si[\"ST\"][i])\n"
      ],
      "metadata": {
        "id": "uyAPZENiq4v3"
      },
      "execution_count": null,
      "outputs": []
    },
    {
      "cell_type": "markdown",
      "source": [
        "#### Graphical representation of the indexes"
      ],
      "metadata": {
        "id": "Wkmj8OjsxQFv"
      }
    },
    {
      "cell_type": "code",
      "source": [
        "import seaborn as sb \n",
        "\n",
        "# Heatmap of First Order and Total Sobol Index with respect to the input parameters\n",
        "sobol = [sobol_first_V_max, sobol_total_V_max]\n",
        "\n",
        "heat_map = sb.heatmap(sobol, annot=True, fmt=\".2f\", cmap=\"YlOrBr\", \n",
        "                      xticklabels = [ \"G_K1\", \"G_to\", \"G_Kr\", \"G_CaL\", \n",
        "                                     \"i_NaK_max\", \"Gb_Ca\"], \n",
        "                      yticklabels = [\"Sobol_first\", \"Sobol_total\"],\n",
        "                      vmin=0, vmax=1)"
      ],
      "metadata": {
        "id": "uLR4eYfyq8YD"
      },
      "execution_count": null,
      "outputs": []
    },
    {
      "cell_type": "markdown",
      "source": [
        "##5. Convergence of the Sobol indexes by using SaLib (used by Uncertainpy)\n"
      ],
      "metadata": {
        "id": "dt_WzULixel0"
      }
    },
    {
      "cell_type": "markdown",
      "source": [
        "### 5.1 Import the data"
      ],
      "metadata": {
        "id": "Fo3N-3v_0Wav"
      }
    },
    {
      "cell_type": "code",
      "source": [
        "!pip install SALib\n",
        "from SALib.analyze import sobol\n",
        "from SALib.sample import saltelli"
      ],
      "metadata": {
        "id": "kKGR7aQWzaAa"
      },
      "execution_count": null,
      "outputs": []
    },
    {
      "cell_type": "code",
      "source": [
        "from matplotlib.scale import get_scale_names\n",
        "import pandas as pd\n",
        "import numpy as np\n",
        "\n",
        "first_G_K1 = []\n",
        "total_G_K1 = []\n",
        "\n",
        "first_G_to = []\n",
        "total_G_to = []\n",
        "\n",
        "first_G_CaL = []\n",
        "total_G_CaL = []\n",
        "\n",
        "first_Gb_Ca = []\n",
        "total_Gb_Ca = []\n",
        "\n",
        "first_i_NaK_max = []\n",
        "total_i_NaK_max = []\n",
        "\n",
        "first_G_Kr = []\n",
        "total_G_Kr = []\n"
      ],
      "metadata": {
        "id": "fhWZRo_9osrb"
      },
      "execution_count": null,
      "outputs": []
    },
    {
      "cell_type": "code",
      "source": [
        "# Definition of the problem\n",
        "problem = {'num_vars' : 6,\n",
        "           'names'    : [\"G_K1\"     , \n",
        "                         \"G_to\"     ,\n",
        "                         \"G_Kr\"     ,\n",
        "                         \"G_CaL\"    , \n",
        "                         \"i_NaK_max\",  \n",
        "                         \"Gb_Ca\"    ],\n",
        "           'bounds'    : [[0.018,  0.045],\n",
        "                          [0.033, 0.0826],\n",
        "                          [0.0147, 0.0441],\n",
        "                          [0.0619, 0.1856],\n",
        "                          [0.2997, 0.8990],\n",
        "                          [0.0005, 0.0017]]\n",
        "          }\n"
      ],
      "metadata": {
        "id": "eGZglO5Cpwtf"
      },
      "execution_count": null,
      "outputs": []
    },
    {
      "cell_type": "markdown",
      "source": [
        "- Import evaluations with 64 iterations\n",
        "\n",
        "\n"
      ],
      "metadata": {
        "id": "jgQJTNAvzsBB"
      }
    },
    {
      "cell_type": "code",
      "source": [
        "df = pd.read_excel('/content/drive/MyDrive/Computational_statistics/BIOMARKER_VALUES_64iteration.xls')\n",
        "evaluations = df.to_numpy()[:, 1]\n",
        "si = sobol.analyze(problem, evaluations, calc_second_order=False, \n",
        "                   num_resamples = 64)\n",
        "\n",
        "first_G_K1.append(si[\"S1\"][0])\n",
        "total_G_K1.append(si[\"ST\"][0])\n",
        "\n",
        "first_G_to.append(si[\"S1\"][1])\n",
        "total_G_to.append(si[\"ST\"][1])\n",
        "\n",
        "first_G_CaL.append(si[\"S1\"][3])\n",
        "total_G_CaL.append(si[\"ST\"][3])\n",
        "\n",
        "first_Gb_Ca.append(si[\"S1\"][5])\n",
        "total_Gb_Ca.append(si[\"ST\"][5])\n",
        "\n",
        "first_i_NaK_max.append(si[\"S1\"][4])\n",
        "total_i_NaK_max.append(si[\"ST\"][4])\n",
        "\n",
        "first_G_Kr.append(si[\"S1\"][2])\n",
        "total_G_Kr.append(si[\"ST\"][2])"
      ],
      "metadata": {
        "id": "F1TDAmdzp8XN"
      },
      "execution_count": null,
      "outputs": []
    },
    {
      "cell_type": "markdown",
      "source": [
        "- Import evaluations with 128 iterations"
      ],
      "metadata": {
        "id": "J3Z8z0jQzy_H"
      }
    },
    {
      "cell_type": "code",
      "source": [
        "df = pd.read_excel('/content/drive/MyDrive/Computational_statistics/BIOMARKER_VALUES_128iteration.xls')\n",
        "evaluations = df.to_numpy()[:, 1]\n",
        "si = sobol.analyze(problem, evaluations, calc_second_order=False, \n",
        "                   num_resamples = 128)\n",
        "\n",
        "first_G_K1.append(si[\"S1\"][0])\n",
        "total_G_K1.append(si[\"ST\"][0])\n",
        "\n",
        "first_G_to.append(si[\"S1\"][1])\n",
        "total_G_to.append(si[\"ST\"][1])\n",
        "\n",
        "first_G_CaL.append(si[\"S1\"][3])\n",
        "total_G_CaL.append(si[\"ST\"][3])\n",
        "\n",
        "first_Gb_Ca.append(si[\"S1\"][5])\n",
        "total_Gb_Ca.append(si[\"ST\"][5])\n",
        "\n",
        "first_i_NaK_max.append(si[\"S1\"][4])\n",
        "total_i_NaK_max.append(si[\"ST\"][4])\n",
        "\n",
        "first_G_Kr.append(si[\"S1\"][2])\n",
        "total_G_Kr.append(si[\"ST\"][2])"
      ],
      "metadata": {
        "id": "Tv9Eth5Rp_hR"
      },
      "execution_count": null,
      "outputs": []
    },
    {
      "cell_type": "markdown",
      "source": [
        "- Import evaluations with 256 iterations\n"
      ],
      "metadata": {
        "id": "iqEKFS_Iz1Yu"
      }
    },
    {
      "cell_type": "code",
      "source": [
        "df = pd.read_excel('/content/drive/MyDrive/Computational_statistics/BIOMARKER_VALUES_256iteration.xls')\n",
        "evaluations = df.to_numpy()[:, 1]\n",
        "si = sobol.analyze(problem, evaluations, calc_second_order=False, \n",
        "                   num_resamples = 256)\n",
        "\n",
        "first_G_K1.append(si[\"S1\"][0])\n",
        "total_G_K1.append(si[\"ST\"][0])\n",
        "\n",
        "first_G_to.append(si[\"S1\"][1])\n",
        "total_G_to.append(si[\"ST\"][1])\n",
        "\n",
        "first_G_CaL.append(si[\"S1\"][3])\n",
        "total_G_CaL.append(si[\"ST\"][3])\n",
        "\n",
        "first_Gb_Ca.append(si[\"S1\"][5])\n",
        "total_Gb_Ca.append(si[\"ST\"][5])\n",
        "\n",
        "first_i_NaK_max.append(si[\"S1\"][4])\n",
        "total_i_NaK_max.append(si[\"ST\"][4])\n",
        "\n",
        "first_G_Kr.append(si[\"S1\"][2])\n",
        "total_G_Kr.append(si[\"ST\"][2])"
      ],
      "metadata": {
        "id": "Skh4L78nqB0l"
      },
      "execution_count": null,
      "outputs": []
    },
    {
      "cell_type": "markdown",
      "source": [
        "- Import evaluations with 512 iterations"
      ],
      "metadata": {
        "id": "OF38D6dl0Axq"
      }
    },
    {
      "cell_type": "code",
      "source": [
        "df = pd.read_excel('/content/drive/MyDrive/Computational_statistics/BIOMARKER_VALUES_512iteration.xls')\n",
        "evaluations = df.to_numpy()[:, 1]\n",
        "si = sobol.analyze(problem, evaluations, calc_second_order=False, \n",
        "                   num_resamples = 512)\n",
        "\n",
        "first_G_K1.append(si[\"S1\"][0])\n",
        "total_G_K1.append(si[\"ST\"][0])\n",
        "\n",
        "first_G_to.append(si[\"S1\"][1])\n",
        "total_G_to.append(si[\"ST\"][1])\n",
        "\n",
        "first_G_CaL.append(si[\"S1\"][3])\n",
        "total_G_CaL.append(si[\"ST\"][3])\n",
        "\n",
        "first_Gb_Ca.append(si[\"S1\"][5])\n",
        "total_Gb_Ca.append(si[\"ST\"][5])\n",
        "\n",
        "first_i_NaK_max.append(si[\"S1\"][4])\n",
        "total_i_NaK_max.append(si[\"ST\"][4])\n",
        "\n",
        "first_G_Kr.append(si[\"S1\"][2])\n",
        "total_G_Kr.append(si[\"ST\"][2])"
      ],
      "metadata": {
        "id": "e_kLrlECqDbO"
      },
      "execution_count": null,
      "outputs": []
    },
    {
      "cell_type": "markdown",
      "source": [
        "- Import evaluations with 1024 iterations"
      ],
      "metadata": {
        "id": "V2hibWGB0D9y"
      }
    },
    {
      "cell_type": "code",
      "source": [
        "df = pd.read_excel('/content/drive/MyDrive/Computational_statistics/BIOMARKER_VALUES_1024iteration.xls')\n",
        "evaluations = df.to_numpy()[:, 1]\n",
        "si = sobol.analyze(problem, evaluations, calc_second_order=False, \n",
        "                   num_resamples = 1024)\n",
        "\n",
        "first_G_K1.append(si[\"S1\"][0])\n",
        "total_G_K1.append(si[\"ST\"][0])\n",
        "\n",
        "first_G_to.append(si[\"S1\"][1])\n",
        "total_G_to.append(si[\"ST\"][1])\n",
        "\n",
        "first_G_CaL.append(si[\"S1\"][3])\n",
        "total_G_CaL.append(si[\"ST\"][3])\n",
        "\n",
        "first_Gb_Ca.append(si[\"S1\"][5])\n",
        "total_Gb_Ca.append(si[\"ST\"][5])\n",
        "\n",
        "first_i_NaK_max.append(si[\"S1\"][4])\n",
        "total_i_NaK_max.append(si[\"ST\"][4])\n",
        "\n",
        "first_G_Kr.append(si[\"S1\"][2])\n",
        "total_G_Kr.append(si[\"ST\"][2])"
      ],
      "metadata": {
        "id": "UTb6Q1bzqFE5"
      },
      "execution_count": null,
      "outputs": []
    },
    {
      "cell_type": "markdown",
      "source": [
        " - Import evaluations with 2048 iterations"
      ],
      "metadata": {
        "id": "uThoDkHq0Iqs"
      }
    },
    {
      "cell_type": "code",
      "source": [
        "df = pd.read_excel('/content/drive/MyDrive/Computational_statistics/BIOMARKER_VALUES_2048iteration.xls')\n",
        "evaluations = df.to_numpy()[:, 1]\n",
        "si = sobol.analyze(problem, evaluations, calc_second_order=False, \n",
        "                   num_resamples = 2048)\n",
        "\n",
        "first_G_K1.append(si[\"S1\"][0])\n",
        "total_G_K1.append(si[\"ST\"][0])\n",
        "\n",
        "first_G_to.append(si[\"S1\"][1])\n",
        "total_G_to.append(si[\"ST\"][1])\n",
        "\n",
        "first_G_CaL.append(si[\"S1\"][3])\n",
        "total_G_CaL.append(si[\"ST\"][3])\n",
        "\n",
        "first_Gb_Ca.append(si[\"S1\"][5])\n",
        "total_Gb_Ca.append(si[\"ST\"][5])\n",
        "\n",
        "first_i_NaK_max.append(si[\"S1\"][4])\n",
        "total_i_NaK_max.append(si[\"ST\"][4])\n",
        "\n",
        "first_G_Kr.append(si[\"S1\"][2])\n",
        "total_G_Kr.append(si[\"ST\"][2])"
      ],
      "metadata": {
        "id": "_E-GI_fUqG1R"
      },
      "execution_count": null,
      "outputs": []
    },
    {
      "cell_type": "markdown",
      "source": [
        "- Import evaluations with 4096 iterations"
      ],
      "metadata": {
        "id": "e9a9bGRg0OoD"
      }
    },
    {
      "cell_type": "code",
      "source": [
        "df = pd.read_excel('/content/drive/MyDrive/Computational_statistics/BIOMARKER_VALUES_4096iteration.xls')\n",
        "evaluations = df.to_numpy()[:, 1]\n",
        "si = sobol.analyze(problem, evaluations, calc_second_order=False, \n",
        "                   num_resamples = 4096)\n",
        "\n",
        "first_G_K1.append(si[\"S1\"][0])\n",
        "total_G_K1.append(si[\"ST\"][0])\n",
        "\n",
        "first_G_to.append(si[\"S1\"][1])\n",
        "total_G_to.append(si[\"ST\"][1])\n",
        "\n",
        "first_G_CaL.append(si[\"S1\"][3])\n",
        "total_G_CaL.append(si[\"ST\"][3])\n",
        "\n",
        "first_Gb_Ca.append(si[\"S1\"][5])\n",
        "total_Gb_Ca.append(si[\"ST\"][5])\n",
        "\n",
        "first_i_NaK_max.append(si[\"S1\"][4])\n",
        "total_i_NaK_max.append(si[\"ST\"][4])\n",
        "\n",
        "first_G_Kr.append(si[\"S1\"][2])\n",
        "total_G_Kr.append(si[\"ST\"][2])"
      ],
      "metadata": {
        "id": "9PaZG_zFqItG"
      },
      "execution_count": null,
      "outputs": []
    },
    {
      "cell_type": "markdown",
      "source": [
        "### 5.2 Plot of the results"
      ],
      "metadata": {
        "id": "lDSnrfdu0URv"
      }
    },
    {
      "cell_type": "code",
      "source": [
        "import matplotlib.pyplot as plt\n",
        "\n",
        "N = [64, 128, 256, 512, 1024, 2048, 4096]\n",
        "\n",
        "plt.title('Convergence of First Order Sobol indices')\n",
        "plt.plot(N, first_G_K1, label = 'G_K1')\n",
        "plt.plot(N,first_G_to, label = 'G_to')\n",
        "plt.plot(N,first_G_CaL, label = 'G_CaL')\n",
        "plt.plot(N,first_Gb_Ca, label = 'Gb_Ca')\n",
        "plt.plot(N,first_i_NaK_max, label = 'i_NaKmax')\n",
        "plt.plot(N,first_G_Kr, label = 'G_Kr')\n",
        "plt.legend()\n",
        "plt.grid(color='white')\n",
        "ax = plt.gca()\n",
        "ax.set_facecolor('#EAEAF2')"
      ],
      "metadata": {
        "id": "f4EDbMaTqYHY"
      },
      "execution_count": null,
      "outputs": []
    },
    {
      "cell_type": "code",
      "source": [
        "N = [64, 128, 256, 512, 1024, 2048, 4096]\n",
        "\n",
        "plt.title('Convergence of Total Order Sobol indices')\n",
        "plt.plot(N, total_G_K1,label = 'G_K1')\n",
        "plt.plot(N,total_G_to, label = 'G_to')\n",
        "plt.plot(N,total_G_CaL, label = 'G_CaL')\n",
        "plt.plot(N,total_Gb_Ca, label = 'Gb_Ca')\n",
        "plt.plot(N,total_i_NaK_max, label = 'i_NaKmax')\n",
        "plt.plot(N,total_G_Kr, label = 'G_Kr')\n",
        "plt.legend()\n",
        "plt.grid(color='white')\n",
        "ax = plt.gca()\n",
        "ax.set_facecolor('#EAEAF2')\n"
      ],
      "metadata": {
        "id": "xq1lJwXNqc3j"
      },
      "execution_count": null,
      "outputs": []
    }
  ],
  "metadata": {
    "colab": {
      "provenance": [],
      "collapsed_sections": [
        "PlDYbohE_b5W",
        "DkVXNZhvtA9C",
        "NhaHxKIVjitt",
        "-yAUeBTgulsM",
        "jdTJdWMPux1z",
        "CwKsmQLljULX",
        "nePZPoB1jcez",
        "MVgQthOswWbN",
        "gtA4Y-6BzLV9",
        "q0LV54c1zLWL",
        "XzLP5rBDwiGg",
        "g6uEIPusxHP1",
        "Wkmj8OjsxQFv",
        "Fo3N-3v_0Wav",
        "lDSnrfdu0URv"
      ]
    },
    "gpuClass": "standard",
    "kernelspec": {
      "display_name": "Python 3",
      "name": "python3"
    },
    "language_info": {
      "name": "python"
    }
  },
  "nbformat": 4,
  "nbformat_minor": 0
}